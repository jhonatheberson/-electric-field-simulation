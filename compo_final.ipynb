{
 "cells": [
  {
   "cell_type": "code",
   "execution_count": 1,
   "metadata": {},
   "outputs": [
    {
     "data": {
      "application/javascript": [
       "require.undef(\"nbextensions/vpython_libraries/glow.min\");"
      ],
      "text/plain": [
       "<IPython.core.display.Javascript object>"
      ]
     },
     "metadata": {},
     "output_type": "display_data"
    },
    {
     "data": {
      "application/javascript": [
       "require.undef(\"nbextensions/vpython_libraries/glowcomm\");"
      ],
      "text/plain": [
       "<IPython.core.display.Javascript object>"
      ]
     },
     "metadata": {},
     "output_type": "display_data"
    },
    {
     "data": {
      "application/javascript": [
       "require.undef(\"nbextensions/vpython_libraries/jquery-ui.custom.min\");"
      ],
      "text/plain": [
       "<IPython.core.display.Javascript object>"
      ]
     },
     "metadata": {},
     "output_type": "display_data"
    },
    {
     "data": {
      "application/javascript": [
       "require([\"nbextensions/vpython_libraries/glow.min\"], function(){console.log(\"GLOW LOADED\");})"
      ],
      "text/plain": [
       "<IPython.core.display.Javascript object>"
      ]
     },
     "metadata": {},
     "output_type": "display_data"
    },
    {
     "data": {
      "application/javascript": [
       "require([\"nbextensions/vpython_libraries/glowcomm\"], function(){console.log(\"GLOWCOMM LOADED\");})"
      ],
      "text/plain": [
       "<IPython.core.display.Javascript object>"
      ]
     },
     "metadata": {},
     "output_type": "display_data"
    },
    {
     "data": {
      "application/javascript": [
       "require([\"nbextensions/vpython_libraries/jquery-ui.custom.min\"], function(){console.log(\"JQUERY LOADED\");})"
      ],
      "text/plain": [
       "<IPython.core.display.Javascript object>"
      ]
     },
     "metadata": {},
     "output_type": "display_data"
    },
    {
     "data": {
      "text/html": [
       "<div id=\"glowscript\" class=\"glowscript\"></div>"
      ],
      "text/plain": [
       "<IPython.core.display.HTML object>"
      ]
     },
     "metadata": {},
     "output_type": "display_data"
    },
    {
     "data": {
      "application/javascript": [
       "window.__context = { glowscript_container: $(\"#glowscript\").removeAttr(\"id\")}"
      ],
      "text/plain": [
       "<IPython.core.display.Javascript object>"
      ]
     },
     "metadata": {},
     "output_type": "display_data"
    },
    {
     "name": "stdout",
     "output_type": "stream",
     "text": [
      "Digite o valor da distancia entre [1-6] : 4\n",
      "Digite um valor de carga entre [1-6]: 5\n",
      "E = k.q/d²\n",
      "E = 93.75\n"
     ]
    }
   ],
   "source": [
    "#OBS: POR FAVOR COLOQUE O VALOR DA DISTANCIA INICIALMENTE IGUAL A 4 E CARGA IGUAL A 5 DEPOIS DISTANCIA IGUAL A 3 PARA MELHOR VISUALIZAÇÃO\n",
    "#TESTE 1: D = 4, CARGA = 5, PERCEBE-SE QUE O COMPRIMENTO DAS SETAS SÃO MENORES POR CAUSA DO INTENCIDADE DO CAMPO SER MENOR DEVIDO TER MAIOR DISTANCIA EM RELAÇÃO A CARGA\n",
    "#TESTE 2: D = 3, CARGA = 5, PERCEB-SE QUE O COMPRIMENTO DAS SETAS AUMENTOU DEVIDO A DISTANCIA SER MENOR, ASSIM MAIOR INTENCIDADE DO CAMPO\n",
    "from vpython import*\n",
    "import numpy as np\n",
    "import math\n",
    "\n",
    "#----- entrada de variaveis -----#\n",
    "vetor = float(input('Digite o valor da distancia entre [1-6] : '))\n",
    "q1 = float(input('Digite um valor de carga entre [1-6]: '))\n",
    "while((vetor <= 0 or vetor > 6) or (vetor > q1)):\n",
    "    print('Entrada incorreta, por favor digite novamente numero entra [0-5] e distancia menor que carga para melhor visualização')\n",
    "    vetor = float(input('Digite o valor da distancia entre [1-6] : '))\n",
    "    q1 = float(input('Digite um valor de carga entre [1-6]: '))\n",
    "    \n",
    ";    \n",
    "dx = vetor\n",
    "dy = vetor\n",
    "dz = vetor\n",
    "dx1 = dx/100\n",
    "dy1 = dy/100\n",
    "dz1 = dz/100\n",
    "#----- entrada de variaveis -----#\n",
    "\n",
    "#----- calculo da magnitude do campo elétrico -----#\n",
    "\n",
    "d = sqrt(dx1**2+dy1**2+dz1**2) \n",
    "k = 9*(10**9)\n",
    "qf = (q1/100)*(10**-9)\n",
    "e = float((k*qf)/d**2)\n",
    "\n",
    "#----- calculo da magnitude do campo elétrico -----#\n",
    "\n",
    "#----- calculo da direção do vetor -----#\n",
    "\n",
    "versor_x = (dx1)/d\n",
    "versor_y = (dy1)/d\n",
    "versor_z = (dz1)/d\n",
    "direcao_x = e*versor_x\n",
    "direcao_y = e*versor_y\n",
    "direcao_z = e*versor_z\n",
    "teste = vector(direcao_x,direcao_y,direcao_z)\n",
    "mag_2 = vector(e,e,e)\n",
    "\n",
    "#----- calculo da direção do vetor -----#\n",
    "\n",
    "#----- impressões -----------------------#\n",
    "print('E = k.q/d²')\n",
    "print('E = {}'.format(e))\n",
    "#----- impressões -----------------------#\n",
    "\n",
    "\n",
    "#----- imagens --------------------------------------------------------------------------------------------------#\n",
    "ref = sphere(pos=vector(0,0,0), radius = 10, color = color.yellow) # carga localizada no centro\n",
    "#--------rotacionando vetor posiçao do ponto--------#\n",
    "\n",
    "v1 = rotate(mag_2, angle=2*pi, axis=vector(0,0,0))\n",
    "versor_1 = norm(vector(v1))\n",
    "ortogonal_1 = versor_1*e\n",
    "\n",
    "#--------rotacionando vetor posiçao do ponto--------#\n",
    "\n",
    "#--------imprimendo seta e rotacionando seta delimitadora posiçao do ponto--------#\n",
    "\n",
    "angulo = 0\n",
    "n = 0\n",
    "while(n < 24):\n",
    "    angulo = angulo + 15\n",
    "    pointer_n = arrow(pos=vector(direcao_x,direcao_y,direcao_z),axis = ortogonal_1, color = color.red,  shaftwidth=4)\n",
    "    pointer_n.rotate(angle=radians(angulo), axis=vector(e,0,0), origin=vector(0,0,0))\n",
    "    n = n + 1\n",
    "    ;\n",
    "v2 = rotate(vector(direcao_x,direcao_y,direcao_z), angle=pi, axis=vector(0,0,0))\n",
    "versor_2 = norm(vector(v2))\n",
    "ortogonal_v2 = versor_2*e\n",
    "\n",
    "#--------imprimendo seta e rotacionando seta delimitadora posiçao do ponto--------#\n",
    "\n",
    "#--------rotacionando vetor posiçao do ponto 2--------#\n",
    "\n",
    "v3 = rotate(mag_2, angle=pi, axis=vector(0,0,0))\n",
    "versor_3 = norm(vector(v3))\n",
    "ortogonal_3 = versor_3*e\n",
    "\n",
    "#--------rotacionando vetor posiçao do ponto 2--------#\n",
    "\n",
    "#--------imprimendo seta e rotacionando seta delimitadora posiçao do ponto--------#\n",
    "\n",
    "k = 0\n",
    "angulo = 0\n",
    "while(k < 24):\n",
    "    angulo = angulo + 15\n",
    "    pointer_k = arrow(pos=vector(ortogonal_v2) ,axis = vector(ortogonal_3), color = color.red,  shaftwidth=4)\n",
    "    pointer_k.rotate(angle=radians(angulo), axis=vector(e,0,0), origin=vector(0,0,0))\n",
    "    k = k + 1\n",
    "    ;\n",
    "    \n",
    "#--------imprimendo seta e rotacionando seta delimitadora posiçao do ponto--------#   \n",
    "\n",
    "#--------rotacionando vetor posiçao do ponto 3--------#\n",
    "\n",
    "v4 = rotate(vector(direcao_x-20,direcao_y,direcao_z), angle=pi/2, axis=vector(0,0,0))\n",
    "versor_4 = norm(vector(v4)) # nao consegui fazer o lanço condiciona nessa logica deu um bug ele não entra no laço\n",
    "ortogonal_v4 = versor_4*e\n",
    "\n",
    "#--------rotacionando vetor posiçao do ponto 3--------#\n",
    "\n",
    "#--------imprimendo seta e rotacionando seta, entre as setas de delimitação posiçao do ponto--------#\n",
    "\n",
    "x = 0\n",
    "angulo_1 = 0\n",
    "while(x < 24):\n",
    "        angulo_1 = angulo_1 + 15\n",
    "        pointer_x = arrow(pos=vector(direcao_x-20,direcao_y,direcao_z) ,axis = vector(ortogonal_v4), color = color.red,  shaftwidth=4)\n",
    "        pointer_x.rotate(angle=radians(angulo_1), axis=vector(e,0,0), origin=vector(0,0,0))\n",
    "        x = x + 1\n",
    ";\n",
    "\n",
    "#--------imprimendo seta e rotacionando seta, entre as setas de delimitação posiçao do ponto--------#\n",
    "\n",
    "#--------repetições da rotacição vetor posiçao do ponto 3 e imprimendo seta e rotacionando seta, entre as setas de delimitação posiçao do ponto\n",
    "    \n",
    "v4 = rotate(vector(direcao_x-30,direcao_y,direcao_z), angle=pi/2, axis=vector(0,0,0))\n",
    "versor_4 = norm(vector(v4))\n",
    "ortogonal_v4 = versor_4*e\n",
    "\n",
    "# nao consegui fazer o lanço condiciona nessa logica deu um bug ele não entra no laço\n",
    "x = 0\n",
    "angulo_1 = 0\n",
    "while(x < 24):\n",
    "        angulo_1 = angulo_1 + 15\n",
    "        pointer_x = arrow(pos=vector(direcao_x-30,direcao_y,direcao_z) ,axis = vector(ortogonal_v4), color = color.red,  shaftwidth=4)\n",
    "        pointer_x.rotate(angle=radians(angulo_1), axis=vector(e,0,0), origin=vector(0,0,0))\n",
    "        x = x + 1\n",
    ";      \n",
    "v4 = rotate(vector(direcao_x-40,direcao_y,direcao_z), angle=pi/2, axis=vector(0,0,0))\n",
    "versor_4 = norm(vector(v4))\n",
    "ortogonal_v4 = versor_4*e\n",
    "# nao consegui fazer o lanço condiciona nessa logica deu um bug ele não entra no laço\n",
    "x = 0\n",
    "angulo_1 = 0\n",
    "while(x < 24):\n",
    "        angulo_1 = angulo_1 + 15\n",
    "        pointer_x = arrow(pos=vector(direcao_x-40,direcao_y,direcao_z) ,axis = vector(ortogonal_v4), color = color.red,  shaftwidth=4)\n",
    "        pointer_x.rotate(angle=radians(angulo_1), axis=vector(e,0,0), origin=vector(0,0,0))\n",
    "        x = x + 1\n",
    ";      \n",
    "v4 = rotate(vector(direcao_x-50,direcao_y,direcao_z), angle=pi/2, axis=vector(0,0,0))\n",
    "versor_4 = norm(vector(v4))\n",
    "ortogonal_v4 = versor_4*e\n",
    "# nao consegui fazer o lanço condiciona nessa logica deu um bug ele não entra no laço\n",
    "x = 0\n",
    "angulo_1 = 0\n",
    "while(x < 24):\n",
    "        angulo_1 = angulo_1 + 15\n",
    "        pointer_x = arrow(pos=vector(direcao_x-50,direcao_y,direcao_z) ,axis = vector(ortogonal_v4), color = color.red,  shaftwidth=4)\n",
    "        pointer_x.rotate(angle=radians(angulo_1), axis=vector(e,0,0), origin=vector(0,0,0))\n",
    "        x = x + 1\n",
    ";        \n",
    "        \n",
    "v4 = rotate(vector(direcao_x-60,direcao_y,direcao_z), angle=pi/2, axis=vector(0,0,0))\n",
    "versor_4 = norm(vector(v4))\n",
    "ortogonal_v4 = versor_4*e\n",
    "# nao consegui fazer o lanço condiciona nessa logica deu um bug ele não entra no laço\n",
    "x = 0\n",
    "angulo_1 = 0\n",
    "while(x < 24):\n",
    "        angulo_1 = angulo_1 + 15\n",
    "        pointer_x = arrow(pos=vector(direcao_x-60,direcao_y,direcao_z) ,axis = vector(ortogonal_v4), color = color.red,  shaftwidth=4)\n",
    "        pointer_x.rotate(angle=radians(angulo_1), axis=vector(e,0,0), origin=vector(0,0,0))\n",
    "        x = x + 1\n",
    ";       \n",
    "v4 = rotate(vector(direcao_x-70,direcao_y,direcao_z), angle=pi/2, axis=vector(0,0,0))\n",
    "versor_4 = norm(vector(v4))\n",
    "ortogonal_v4 = versor_4*e\n",
    "\n",
    "x = 0\n",
    "angulo_1 = 0\n",
    "while(x < 24):\n",
    "        angulo_1 = angulo_1 + 15\n",
    "        pointer_x = arrow(pos=vector(direcao_x-70,direcao_y,direcao_z) ,axis = vector(ortogonal_v4), color = color.red,  shaftwidth=4)\n",
    "        pointer_x.rotate(angle=radians(angulo_1), axis=vector(e,0,0), origin=vector(0,0,0))\n",
    "        x = x + 1\n",
    ";       \n",
    "v4 = rotate(vector(direcao_x-80,direcao_y,direcao_z), angle=pi/2, axis=vector(0,0,0))\n",
    "versor_4 = norm(vector(v4))\n",
    "ortogonal_v4 = versor_4*e\n",
    "\n",
    "x = 0\n",
    "angulo_1 = 0\n",
    "while(x < 24):\n",
    "        angulo_1 = angulo_1 + 15\n",
    "        pointer_x = arrow(pos=vector(direcao_x-80,direcao_y,direcao_z) ,axis = vector(ortogonal_v4), color = color.red,  shaftwidth=4)\n",
    "        pointer_x.rotate(angle=radians(angulo_1), axis=vector(e,0,0), origin=vector(0,0,0))\n",
    "        x = x + 1\n",
    ";      \n",
    "v4 = rotate(vector(direcao_x-90,direcao_y,direcao_z), angle=pi/2, axis=vector(0,0,0))\n",
    "versor_4 = norm(vector(v4))\n",
    "ortogonal_v4 = versor_4*e\n",
    "\n",
    "x = 0\n",
    "angulo_1 = 0\n",
    "while(x < 24):\n",
    "        angulo_1 = angulo_1 + 15\n",
    "        pointer_x = arrow(pos=vector(direcao_x-90,direcao_y,direcao_z) ,axis = vector(ortogonal_v4), color = color.red,  shaftwidth=4)\n",
    "        pointer_x.rotate(angle=radians(angulo_1), axis=vector(e,0,0), origin=vector(0,0,0))\n",
    "        x = x + 1\n",
    ";\n",
    "\n",
    "v4 = rotate(vector(direcao_x-100,direcao_y,direcao_z), angle=pi/2, axis=vector(0,0,0))\n",
    "versor_4 = norm(vector(v4))\n",
    "ortogonal_v4 = versor_4*e\n",
    "\n",
    "x = 0\n",
    "angulo_1 = 0\n",
    "while(x < 24):\n",
    "        angulo_1 = angulo_1 + 15\n",
    "        pointer_x = arrow(pos=vector(direcao_x-100,direcao_y,direcao_z) ,axis = vector(ortogonal_v4), color = color.red,  shaftwidth=4)\n",
    "        pointer_x.rotate(angle=radians(angulo_1), axis=vector(e,0,0), origin=vector(0,0,0))\n",
    "        x = x + 1\n",
    "        \n",
    "v4 = rotate(vector(direcao_x-110,direcao_y,direcao_z), angle=pi/2, axis=vector(0,0,0))\n",
    "versor_4 = norm(vector(v4))\n",
    "ortogonal_v4 = versor_4*e\n",
    "\n",
    "x = 0\n",
    "angulo_1 = 0\n",
    "while(x < 24):\n",
    "        angulo_1 = angulo_1 + 15\n",
    "        pointer_x = arrow(pos=vector(direcao_x-110,direcao_y,direcao_z) ,axis = vector(ortogonal_v4), color = color.red,  shaftwidth=4)\n",
    "        pointer_x.rotate(angle=radians(angulo_1), axis=vector(e,0,0), origin=vector(0,0,0))\n",
    "        x = x + 1\n",
    "        \n",
    "v4 = rotate(vector(direcao_x-120,direcao_y,direcao_z), angle=pi/2, axis=vector(0,0,0))\n",
    "versor_4 = norm(vector(v4))\n",
    "ortogonal_v4 = versor_4*e\n",
    "\n",
    "x = 0\n",
    "angulo_1 = 0\n",
    "while(x < 24):\n",
    "        angulo_1 = angulo_1 + 15\n",
    "        pointer_x = arrow(pos=vector(direcao_x-120,direcao_y,direcao_z) ,axis = vector(ortogonal_v4), color = color.red,  shaftwidth=4)\n",
    "        pointer_x.rotate(angle=radians(angulo_1), axis=vector(e,0,0), origin=vector(0,0,0))\n",
    "        x = x + 1\n",
    "        \n",
    "v4 = rotate(vector(direcao_x-130,direcao_y,direcao_z), angle=pi/2, axis=vector(0,0,0))\n",
    "versor_4 = norm(vector(v4))\n",
    "ortogonal_v4 = versor_4*e\n",
    "\n",
    "x = 0\n",
    "angulo_1 = 0\n",
    "while(x < 24):\n",
    "        angulo_1 = angulo_1 + 15\n",
    "        pointer_x = arrow(pos=vector(direcao_x-130,direcao_y,direcao_z) ,axis = vector(ortogonal_v4), color = color.red,  shaftwidth=4)\n",
    "        pointer_x.rotate(angle=radians(angulo_1), axis=vector(e,0,0), origin=vector(0,0,0))\n",
    "        x = x + 1 \n",
    "        \n",
    "v4 = rotate(vector(direcao_x-140,direcao_y,direcao_z), angle=pi/2, axis=vector(0,0,0))\n",
    "versor_4 = norm(vector(v4))\n",
    "ortogonal_v4 = versor_4*e\n",
    "\n",
    "x = 0\n",
    "angulo_1 = 0\n",
    "while(x < 24):\n",
    "        angulo_1 = angulo_1 + 15\n",
    "        pointer_x = arrow(pos=vector(direcao_x-140,direcao_y,direcao_z) ,axis = vector(ortogonal_v4), color = color.red,  shaftwidth=4)\n",
    "        pointer_x.rotate(angle=radians(angulo_1), axis=vector(e,0,0), origin=vector(0,0,0))\n",
    "        x = x + 1\n",
    "        \n",
    "v4 = rotate(vector(direcao_x-150,direcao_y,direcao_z), angle=pi/2, axis=vector(0,0,0))\n",
    "versor_4 = norm(vector(v4))\n",
    "ortogonal_v4 = versor_4*e\n",
    "\n",
    "x = 0\n",
    "angulo_1 = 0\n",
    "while(x < 24):\n",
    "        angulo_1 = angulo_1 + 15\n",
    "        pointer_x = arrow(pos=vector(direcao_x-150,direcao_y,direcao_z) ,axis = vector(ortogonal_v4), color = color.red,  shaftwidth=4)\n",
    "        pointer_x.rotate(angle=radians(angulo_1), axis=vector(e,0,0), origin=vector(0,0,0))\n",
    "        x = x + 1\n",
    "        \n",
    "v4 = rotate(vector(direcao_x-160,direcao_y,direcao_z), angle=pi/2, axis=vector(0,0,0))\n",
    "versor_4 = norm(vector(v4))\n",
    "ortogonal_v4 = versor_4*e\n",
    "\n",
    "x = 0\n",
    "angulo_1 = 0\n",
    "while(x < 24):\n",
    "        angulo_1 = angulo_1 + 15\n",
    "        pointer_x = arrow(pos=vector(direcao_x-160,direcao_y,direcao_z) ,axis = vector(ortogonal_v4), color = color.red,  shaftwidth=4)\n",
    "        pointer_x.rotate(angle=radians(angulo_1), axis=vector(e,0,0), origin=vector(0,0,0))\n",
    "        x = x + 1\n",
    "#--------repetições da rotacição vetor posiçao do ponto 3 e imprimendo seta e rotacionando seta, entre as setas de delimitação posiçao do ponto\n",
    "#----- imagens -------------------------------------------------------------------------------------------#\n",
    "#OBS: COMUNICAR QUE ESSES TRABALHOS TEVE MUITO EMPENHO POR MINHA PARTE, A QUAL DEDIQUEI MUITO A ELES, QUE PODERIA ESTAR FAZENDO A LISTA DO SR. QUE ACHO QUE SERIA MAIS PRODUTIVO, CONTUDO NÃO GOSTO DE INICIAR ALGUMA COISA E NÃO TERMINAR, POR ISSO ESPERO A DEVIDA CONTRIBUIÇÃO E MERECEDORA(PONTOS) POR ELES, E ACHO QUE SEREI O ÚNICO A ENTREGALOS.\n",
    "#Respeitosamente,\n",
    "#nome: Jhonat Heberson Avelino de Souza\n",
    "#matrícula: 20160142138\n"
   ]
  },
  {
   "cell_type": "markdown",
   "metadata": {},
   "source": [
    "##### "
   ]
  }
 ],
 "metadata": {
  "kernelspec": {
   "display_name": "Python 3",
   "language": "python",
   "name": "python3"
  },
  "language_info": {
   "codemirror_mode": {
    "name": "ipython",
    "version": 3
   },
   "file_extension": ".py",
   "mimetype": "text/x-python",
   "name": "python",
   "nbconvert_exporter": "python",
   "pygments_lexer": "ipython3",
   "version": "3.5.2"
  }
 },
 "nbformat": 4,
 "nbformat_minor": 2
}
